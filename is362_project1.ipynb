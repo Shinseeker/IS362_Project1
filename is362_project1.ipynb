{
 "cells": [
  {
   "cell_type": "code",
   "execution_count": 5,
   "metadata": {
    "collapsed": false
   },
   "outputs": [],
   "source": [
    "import pandas as pd"
   ]
  },
  {
   "cell_type": "markdown",
   "metadata": {},
   "source": [
    "Opened The CSV file and read it - checked for Object type."
   ]
  },
  {
   "cell_type": "code",
   "execution_count": 6,
   "metadata": {
    "collapsed": false
   },
   "outputs": [
    {
     "name": "stdout",
     "output_type": "stream",
     "text": [
      "   Airline   Status   LA   PHX  Sandiego  SanFran  Seattle\n",
      "0   Alaska  On Time  497   221       212      503     1841\n",
      "1   Alaska  Delayed   62    12        20      102      305\n",
      "2  AM West  On Time  694  4840       383      320      201\n",
      "3  AM West  Delayed  117   415        65      129       61\n",
      "\n",
      " Object type:\n",
      "<class 'pandas.core.frame.DataFrame'>\n"
     ]
    }
   ],
   "source": [
    "airliners = pd.DataFrame(pd.read_csv(\"airliners.csv\", usecols=[0, 1, 2, 3, 4, 5,6]))\n",
    "airliners = airliners.rename(columns={'Unnamed: 0': 'Airline'})\n",
    "\n",
    "print(airliners)\n",
    "print(\"\\n Object type:\")\n",
    "print(type(airliners))"
   ]
  },
  {
   "cell_type": "code",
   "execution_count": 7,
   "metadata": {
    "collapsed": false,
    "scrolled": true
   },
   "outputs": [
    {
     "name": "stdout",
     "output_type": "stream",
     "text": [
      "Airline      Alaska\n",
      "Status      On Time\n",
      "LA              497\n",
      "PHX             221\n",
      "Sandiego        212\n",
      "SanFran         503\n",
      "Seattle        1841\n",
      "Name: 0, dtype: object\n",
      "\n",
      "\n",
      "Airline      Alaska\n",
      "Status      Delayed\n",
      "LA               62\n",
      "PHX              12\n",
      "Sandiego         20\n",
      "SanFran         102\n",
      "Seattle         305\n",
      "Name: 1, dtype: object\n",
      "Airline     AM West\n",
      "Status      On Time\n",
      "LA              694\n",
      "PHX            4840\n",
      "Sandiego        383\n",
      "SanFran         320\n",
      "Seattle         201\n",
      "Name: 2, dtype: object\n",
      "\n",
      "\n",
      "Airline     AM West\n",
      "Status      Delayed\n",
      "LA              117\n",
      "PHX             415\n",
      "Sandiego         65\n",
      "SanFran         129\n",
      "Seattle          61\n",
      "Name: 3, dtype: object\n"
     ]
    }
   ],
   "source": [
    "alaskaOnTime = pd.Series(airliners.loc[0])\n",
    "alaskaDelayed = pd.Series(airliners.loc[1])\n",
    "amwestOnTime = pd.Series(airliners.loc[2])\n",
    "amwestDelayed = pd.Series(airliners.loc[3])\n",
    "\n",
    "print(alaskaOnTime)\n",
    "print(\"\\n\")\n",
    "print(alaskaDelayed)\n",
    "print(amwestOnTime)\n",
    "print(\"\\n\")\n",
    "print(amwestDelayed)"
   ]
  },
  {
   "cell_type": "markdown",
   "metadata": {},
   "source": [
    "Created a pandas series and added an extra colum with the total of both flights that where on time and delayed.\n",
    "\n",
    "Just to point out that if you do the sum we can get a better visual on how the data is presented. By adding the Total Column we can see that Am West had more on time flights than Alaska Airlines but 286 more flights were delayed. So what is the ration? "
   ]
  },
  {
   "cell_type": "code",
   "execution_count": 8,
   "metadata": {
    "collapsed": false
   },
   "outputs": [
    {
     "data": {
      "text/html": [
       "<div>\n",
       "<table border=\"1\" class=\"dataframe\">\n",
       "  <thead>\n",
       "    <tr style=\"text-align: right;\">\n",
       "      <th></th>\n",
       "      <th>Airline</th>\n",
       "      <th>Status</th>\n",
       "      <th>LA</th>\n",
       "      <th>PHX</th>\n",
       "      <th>Sandiego</th>\n",
       "      <th>SanFran</th>\n",
       "      <th>Seattle</th>\n",
       "      <th>Total</th>\n",
       "    </tr>\n",
       "  </thead>\n",
       "  <tbody>\n",
       "    <tr>\n",
       "      <th>0</th>\n",
       "      <td>Alaska</td>\n",
       "      <td>On Time</td>\n",
       "      <td>497</td>\n",
       "      <td>221</td>\n",
       "      <td>212</td>\n",
       "      <td>503</td>\n",
       "      <td>1841</td>\n",
       "      <td>3274</td>\n",
       "    </tr>\n",
       "    <tr>\n",
       "      <th>1</th>\n",
       "      <td>Alaska</td>\n",
       "      <td>Delayed</td>\n",
       "      <td>62</td>\n",
       "      <td>12</td>\n",
       "      <td>20</td>\n",
       "      <td>102</td>\n",
       "      <td>305</td>\n",
       "      <td>501</td>\n",
       "    </tr>\n",
       "    <tr>\n",
       "      <th>2</th>\n",
       "      <td>AM West</td>\n",
       "      <td>On Time</td>\n",
       "      <td>694</td>\n",
       "      <td>4840</td>\n",
       "      <td>383</td>\n",
       "      <td>320</td>\n",
       "      <td>201</td>\n",
       "      <td>6438</td>\n",
       "    </tr>\n",
       "    <tr>\n",
       "      <th>3</th>\n",
       "      <td>AM West</td>\n",
       "      <td>Delayed</td>\n",
       "      <td>117</td>\n",
       "      <td>415</td>\n",
       "      <td>65</td>\n",
       "      <td>129</td>\n",
       "      <td>61</td>\n",
       "      <td>787</td>\n",
       "    </tr>\n",
       "  </tbody>\n",
       "</table>\n",
       "</div>"
      ],
      "text/plain": [
       "   Airline   Status   LA   PHX  Sandiego  SanFran  Seattle  Total\n",
       "0   Alaska  On Time  497   221       212      503     1841   3274\n",
       "1   Alaska  Delayed   62    12        20      102      305    501\n",
       "2  AM West  On Time  694  4840       383      320      201   6438\n",
       "3  AM West  Delayed  117   415        65      129       61    787"
      ]
     },
     "execution_count": 8,
     "metadata": {},
     "output_type": "execute_result"
    }
   ],
   "source": [
    "def addTotalCol():\n",
    "    aOnTime = alaskaOnTime['LA':'Seattle'].sum()\n",
    "    aDelayed = alaskaDelayed['LA':'Seattle'].sum()\n",
    "    amOnTime = amwestOnTime['LA':'Seattle'].sum()\n",
    "    amDelayed = amwestDelayed['LA':'Seattle'].sum()\n",
    "    \n",
    "    totalSeries = pd.Series([aOnTime, aDelayed, amOnTime, amDelayed])\n",
    "    airliners['Total'] = totalSeries\n",
    "    return airliners\n",
    "addTotalCol()"
   ]
  },
  {
   "cell_type": "code",
   "execution_count": 9,
   "metadata": {
    "collapsed": false
   },
   "outputs": [
    {
     "data": {
      "text/plain": [
       "LA           342.5\n",
       "PHX         1372.0\n",
       "Sandiego     170.0\n",
       "SanFran      263.5\n",
       "Seattle      602.0\n",
       "Total       2750.0\n",
       "dtype: float64"
      ]
     },
     "execution_count": 9,
     "metadata": {},
     "output_type": "execute_result"
    }
   ],
   "source": [
    "airliners.mean()"
   ]
  },
  {
   "cell_type": "code",
   "execution_count": 10,
   "metadata": {
    "collapsed": false
   },
   "outputs": [
    {
     "name": "stdout",
     "output_type": "stream",
     "text": [
      "              LA         PHX    Sandiego     SanFran      Seattle        Total\n",
      "count    2.00000    2.000000    2.000000    2.000000     2.000000     2.000000\n",
      "mean   279.50000  116.500000  116.000000  302.500000  1073.000000  1887.500000\n",
      "std    307.59145  147.785317  135.764502  283.549819  1086.116016  1960.807104\n",
      "min     62.00000   12.000000   20.000000  102.000000   305.000000   501.000000\n",
      "25%    170.75000   64.250000   68.000000  202.250000   689.000000  1194.250000\n",
      "50%    279.50000  116.500000  116.000000  302.500000  1073.000000  1887.500000\n",
      "75%    388.25000  168.750000  164.000000  402.750000  1457.000000  2580.750000\n",
      "max    497.00000  221.000000  212.000000  503.000000  1841.000000  3274.000000\n",
      "               LA          PHX    Sandiego     SanFran     Seattle       Total\n",
      "count    2.000000     2.000000    2.000000    2.000000    2.000000     2.00000\n",
      "mean   405.500000  2627.500000  224.000000  224.500000  131.000000  3612.50000\n",
      "std    408.000613  3128.947507  224.859956  135.057395   98.994949  3995.86042\n",
      "min    117.000000   415.000000   65.000000  129.000000   61.000000   787.00000\n",
      "25%    261.250000  1521.250000  144.500000  176.750000   96.000000  2199.75000\n",
      "50%    405.500000  2627.500000  224.000000  224.500000  131.000000  3612.50000\n",
      "75%    549.750000  3733.750000  303.500000  272.250000  166.000000  5025.25000\n",
      "max    694.000000  4840.000000  383.000000  320.000000  201.000000  6438.00000\n"
     ]
    }
   ],
   "source": [
    "print(airliners.loc[0:1].describe())\n",
    "print(airliners.loc[2:3].describe())"
   ]
  },
  {
   "cell_type": "markdown",
   "metadata": {},
   "source": [
    "Managed to get the ratios of both Alaska and Amwest Airlines.We can see from the daya that Alaska flights were delayed"
   ]
  },
  {
   "cell_type": "code",
   "execution_count": 11,
   "metadata": {
    "collapsed": false
   },
   "outputs": [
    {
     "name": "stdout",
     "output_type": "stream",
     "text": [
      "13.271523178807948% of all Alaska flights were delayed\n",
      "10.892733564013842% of all Am West flights were delayed\n"
     ]
    }
   ],
   "source": [
    "alaskaRatio = (airliners['Total'][1] / (airliners['Total'][1] + airliners['Total'][0])) * 100\n",
    "amWestRatio = (airliners['Total'][3] / (airliners['Total'][3] + airliners['Total'][2])) * 100\n",
    "\n",
    "print('{}% of all Alaska flights were delayed'.format(alaskaRatio))\n",
    "print('{}% of all Am West flights were delayed'.format(amWestRatio))"
   ]
  }
 ],
 "metadata": {
  "kernelspec": {
   "display_name": "Python 3",
   "language": "python",
   "name": "python3"
  },
  "language_info": {
   "codemirror_mode": {
    "name": "ipython",
    "version": 3
   },
   "file_extension": ".py",
   "mimetype": "text/x-python",
   "name": "python",
   "nbconvert_exporter": "python",
   "pygments_lexer": "ipython3",
   "version": "3.6.0"
  }
 },
 "nbformat": 4,
 "nbformat_minor": 2
}
